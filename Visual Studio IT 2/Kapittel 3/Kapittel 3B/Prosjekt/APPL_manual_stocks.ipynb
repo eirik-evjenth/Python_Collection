{
 "cells": [
  {
   "cell_type": "code",
   "execution_count": null,
   "metadata": {},
   "outputs": [],
   "source": [
    "from datetime import datetime\n",
    "import matplotlib.pyplot as plt\n",
    "import csv\n",
    "\n",
    "\n",
    "file = \"AAPL_max.csv\"\n",
    "\n",
    "with open(file, encoding=\"utf-8-sig\") as fil:\n",
    "    reader = csv.reader(fil)\n",
    "    next(reader) # Går forbi første linje\n",
    "    data = list(reader)\n"
   ]
  },
  {
   "cell_type": "code",
   "execution_count": null,
   "metadata": {},
   "outputs": [],
   "source": [
    "dates = []\n",
    "closing_prices = []\n",
    "\n",
    "for row in data[2:]:\n",
    "    date_str = row[0]\n",
    "    date = datetime.strptime(date_str, '%Y-%m-%d')\n",
    "    dates.append(date)\n",
    "    closing_prices.append(float(row[4]))\n",
    "\n",
    "plt.figure(figsize=(10, 5))\n",
    "plt.plot(dates, closing_prices, label='Closing Price')\n",
    "plt.xlabel('Date')\n",
    "plt.ylabel('Closing Price in USD')\n",
    "plt.title('Apple Stock Closing Prices')\n",
    "plt.legend()\n",
    "plt.grid()\n",
    "plt.show()"
   ]
  }
 ],
 "metadata": {
  "kernelspec": {
   "display_name": "Python 3",
   "language": "python",
   "name": "python3"
  },
  "language_info": {
   "name": "python",
   "version": "3.12.2"
  }
 },
 "nbformat": 4,
 "nbformat_minor": 2
}
