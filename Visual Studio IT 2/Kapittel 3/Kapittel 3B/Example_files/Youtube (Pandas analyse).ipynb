{
 "cells": [
  {
   "cell_type": "code",
   "execution_count": null,
   "metadata": {},
   "outputs": [],
   "source": [
    "import pandas as pd\n",
    "import json\n",
    "\n",
    "file = \"youtube.json\"\n",
    "\n",
    "df = pd.read_json(file)\n",
    "\n"
   ]
  },
  {
   "cell_type": "code",
   "execution_count": null,
   "metadata": {},
   "outputs": [],
   "source": [
    "# First and last few datafram bits\n",
    "\n",
    "print(df.head())\n",
    "\n",
    "print(df.tail())"
   ]
  },
  {
   "cell_type": "code",
   "execution_count": null,
   "metadata": {},
   "outputs": [],
   "source": [
    "\n",
    "# DataFrame information\n",
    "print(df.info())\n"
   ]
  },
  {
   "cell_type": "code",
   "execution_count": null,
   "metadata": {},
   "outputs": [],
   "source": [
    "\n",
    "# Summary statistics\n",
    "print(df.describe())\n"
   ]
  },
  {
   "cell_type": "code",
   "execution_count": null,
   "metadata": {},
   "outputs": [],
   "source": [
    "\n",
    "# Check for missing values\n",
    "print(df.isnull().sum())\n"
   ]
  },
  {
   "cell_type": "code",
   "execution_count": 15,
   "metadata": {},
   "outputs": [
    {
     "name": "stdout",
     "output_type": "stream",
     "text": [
      "     rank                                Youtuber  subscribers  video views  \\\n",
      "548   549                            Salman Noman     16700000  10393037902   \n",
      "852   853                                Vibhu 96     13400000     20563378   \n",
      "886   887                             Ryan Trahan     13100000   2182651464   \n",
      "957   958  Bebefinn - Nursery Rhymes & Kids Songs     12500000   4163639093   \n",
      "969   970                         Quantum Tech HD     12500000   4340213066   \n",
      "\n",
      "                 category                                   Title  uploads  \\\n",
      "548         Entertainment                            salman Noman        3   \n",
      "852                   nan                                Vibhu 96      256   \n",
      "886         Entertainment                             Ryan Trahan       33   \n",
      "957                   nan  Bebefinn - Nursery Rhymes & Kids Songs      322   \n",
      "969  Science & Technology                       Mr_Mughall Gaming      223   \n",
      "\n",
      "           Country Abbreviation   channel_type  ...  \\\n",
      "548            nan          nan            nan  ...   \n",
      "852          India           IN      Education  ...   \n",
      "886  United States           US         People  ...   \n",
      "957  United States           US  Entertainment  ...   \n",
      "969       Pakistan           PK            nan  ...   \n",
      "\n",
      "     subscribers_for_last_30_days  created_year  created_month  created_date  \\\n",
      "548                          10.0        2022.0            May          14.0   \n",
      "852                      300000.0        2022.0            Jun           5.0   \n",
      "886                           1.0        2022.0            Jun          27.0   \n",
      "957                      500000.0        2022.0            Mar          30.0   \n",
      "969                          32.0        2022.0            Apr          23.0   \n",
      "\n",
      "     Gross tertiary education enrollment (%)    Population  Unemployment rate  \\\n",
      "548                                      NaN           NaN                NaN   \n",
      "852                                     28.1  1.366418e+09               5.36   \n",
      "886                                     88.2  3.282395e+08              14.70   \n",
      "957                                     88.2  3.282395e+08              14.70   \n",
      "969                                      9.0  2.165653e+08               4.45   \n",
      "\n",
      "     Urban_population   Latitude  Longitude  \n",
      "548               NaN        NaN        NaN  \n",
      "852       471031528.0  20.593684  78.962880  \n",
      "886       270663028.0  37.090240 -95.712891  \n",
      "957       270663028.0  37.090240 -95.712891  \n",
      "969        79927762.0  30.375321  69.345116  \n",
      "\n",
      "[5 rows x 28 columns]\n"
     ]
    }
   ],
   "source": [
    "\n",
    "# Example of data manipulation: filtering rows\n",
    "filtered_df = df[df['created_year'] > 2021]\n",
    "print(filtered_df)\n",
    "\n"
   ]
  },
  {
   "cell_type": "code",
   "execution_count": 17,
   "metadata": {},
   "outputs": [
    {
     "name": "stdout",
     "output_type": "stream",
     "text": [
      "              uploads\n",
      "created_year         \n",
      "1970.0            744\n",
      "2005.0         418505\n",
      "2006.0        1569733\n",
      "2007.0        1251288\n",
      "2008.0         798538\n",
      "2009.0         798481\n",
      "2010.0         520151\n",
      "2011.0         536919\n",
      "2012.0         621866\n",
      "2013.0         720061\n",
      "2014.0         805308\n",
      "2015.0         196029\n",
      "2016.0         276649\n",
      "2017.0          97022\n",
      "2018.0         426854\n",
      "2019.0          19541\n",
      "2020.0          61264\n",
      "2021.0          21400\n",
      "2022.0            837\n"
     ]
    }
   ],
   "source": [
    "# Example of data manipulation: group by and aggregate\n",
    "grouped_df = df.groupby('created_year').agg({'uploads': 'sum'})\n",
    "print(grouped_df)\n",
    "\n"
   ]
  },
  {
   "cell_type": "code",
   "execution_count": 19,
   "metadata": {},
   "outputs": [
    {
     "name": "stdout",
     "output_type": "stream",
     "text": [
      "   rank                                Youtuber  subscribers  video views  \\\n",
      "0   549                            Salman Noman     16700000  10393037902   \n",
      "1   853                                Vibhu 96     13400000     20563378   \n",
      "2   887                             Ryan Trahan     13100000   2182651464   \n",
      "3   958  Bebefinn - Nursery Rhymes & Kids Songs     12500000   4163639093   \n",
      "4   970                         Quantum Tech HD     12500000   4340213066   \n",
      "\n",
      "               category                                   Title  uploads  \\\n",
      "0         Entertainment                            salman Noman        3   \n",
      "1                   nan                                Vibhu 96      256   \n",
      "2         Entertainment                             Ryan Trahan       33   \n",
      "3                   nan  Bebefinn - Nursery Rhymes & Kids Songs      322   \n",
      "4  Science & Technology                       Mr_Mughall Gaming      223   \n",
      "\n",
      "         Country Abbreviation   channel_type  ...  \\\n",
      "0            nan          nan            nan  ...   \n",
      "1          India           IN      Education  ...   \n",
      "2  United States           US         People  ...   \n",
      "3  United States           US  Entertainment  ...   \n",
      "4       Pakistan           PK            nan  ...   \n",
      "\n",
      "   subscribers_for_last_30_days  created_year  created_month  created_date  \\\n",
      "0                            10          2022            May            14   \n",
      "1                        300000          2022            Jun             5   \n",
      "2                             1          2022            Jun            27   \n",
      "3                        500000          2022            Mar            30   \n",
      "4                            32          2022            Apr            23   \n",
      "\n",
      "   Gross tertiary education enrollment (%)    Population  Unemployment rate  \\\n",
      "0                                      NaN           NaN                NaN   \n",
      "1                                     28.1  1.366418e+09               5.36   \n",
      "2                                     88.2  3.282395e+08              14.70   \n",
      "3                                     88.2  3.282395e+08              14.70   \n",
      "4                                      9.0  2.165653e+08               4.45   \n",
      "\n",
      "   Urban_population   Latitude  Longitude  \n",
      "0               NaN        NaN        NaN  \n",
      "1       471031528.0  20.593684  78.962880  \n",
      "2       270663028.0  37.090240 -95.712891  \n",
      "3       270663028.0  37.090240 -95.712891  \n",
      "4        79927762.0  30.375321  69.345116  \n",
      "\n",
      "[5 rows x 28 columns]\n"
     ]
    }
   ],
   "source": [
    "# Read the JSON file back into a DataFrame\n",
    "new_df = pd.read_json('filtered_data.json', orient='records', lines=True)\n",
    "\n",
    "# Display the DataFrame\n",
    "print(new_df)\n"
   ]
  }
 ],
 "metadata": {
  "kernelspec": {
   "display_name": "Python 3",
   "language": "python",
   "name": "python3"
  },
  "language_info": {
   "codemirror_mode": {
    "name": "ipython",
    "version": 3
   },
   "file_extension": ".py",
   "mimetype": "text/x-python",
   "name": "python",
   "nbconvert_exporter": "python",
   "pygments_lexer": "ipython3",
   "version": "3.12.2"
  }
 },
 "nbformat": 4,
 "nbformat_minor": 2
}
