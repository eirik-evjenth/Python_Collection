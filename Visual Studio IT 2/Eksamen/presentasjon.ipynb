{
 "cells": [
  {
   "cell_type": "code",
   "execution_count": null,
   "id": "54554bbe",
   "metadata": {},
   "outputs": [],
   "source": [
    "import pandas as pd\n",
    "import timeit\n",
    "\n",
    "df = pd.read_csv(\"stats.csv\", encoding=\"latin1\", delimiter=\";\")"
   ]
  },
  {
   "cell_type": "code",
   "execution_count": null,
   "id": "f5f5b5e5",
   "metadata": {},
   "outputs": [],
   "source": [
    "df[\"Age\"].mean()"
   ]
  },
  {
   "cell_type": "code",
   "execution_count": null,
   "id": "8114dce6",
   "metadata": {},
   "outputs": [],
   "source": [
    "df.nlargest(1,\"G\")[\"Player\"]"
   ]
  },
  {
   "cell_type": "code",
   "execution_count": null,
   "id": "d5837bf9",
   "metadata": {},
   "outputs": [],
   "source": [
    "df.groupby(\"Tm\")[\"G\"].max().sort_values(ascending=False)"
   ]
  },
  {
   "cell_type": "code",
   "execution_count": null,
   "id": "0686edc9",
   "metadata": {},
   "outputs": [],
   "source": [
    "df[df[\"Tm\"] == \"MIA\"][[\"Player\", \"G\"]].sort_values(by=\"G\",ascending=False)"
   ]
  }
 ],
 "metadata": {
  "kernelspec": {
   "display_name": "Python 3",
   "language": "python",
   "name": "python3"
  },
  "language_info": {
   "codemirror_mode": {
    "name": "ipython",
    "version": 3
   },
   "file_extension": ".py",
   "mimetype": "text/x-python",
   "name": "python",
   "nbconvert_exporter": "python",
   "pygments_lexer": "ipython3",
   "version": "3.12.2"
  }
 },
 "nbformat": 4,
 "nbformat_minor": 5
}
