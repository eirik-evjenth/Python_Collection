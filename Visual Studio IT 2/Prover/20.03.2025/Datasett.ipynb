{
 "cells": [
  {
   "cell_type": "code",
   "execution_count": 66,
   "metadata": {},
   "outputs": [
    {
     "name": "stdout",
     "output_type": "stream",
     "text": [
      "          Timestamp Source IP Address Destination IP Address  Source Port  \\\n",
      "0  30.05.2023 06:33     103.216.15.12           84.9.164.252        31225   \n",
      "1  26.08.2020 07:08    78.199.217.198         66.191.137.154        17245   \n",
      "2  13.11.2022 08:23      63.79.210.48          198.219.82.17        16811   \n",
      "3  02.07.2023 10:38     163.42.196.10        101.228.192.255        20018   \n",
      "4  16.07.2023 13:11     71.166.185.76        189.243.174.238         6131   \n",
      "\n",
      "   Destination Port Protocol  Packet Length Packet Type Traffic Type  \\\n",
      "0             17616     ICMP            503        Data         HTTP   \n",
      "1             48166     ICMP           1174        Data         HTTP   \n",
      "2             53600      UDP            306     Control         HTTP   \n",
      "3             32534      UDP            385        Data         HTTP   \n",
      "4             26646      TCP           1462        Data          DNS   \n",
      "\n",
      "                                        Payload Data  ... Action Taken  \\\n",
      "0  Qui natus odio asperiores nam. Optio nobis ius...  ...       Logged   \n",
      "1  Aperiam quos modi officiis veritatis rem. Omni...  ...      Blocked   \n",
      "2  Perferendis sapiente vitae soluta. Hic delectu...  ...      Ignored   \n",
      "3  Totam maxime beatae expedita explicabo porro l...  ...      Blocked   \n",
      "4  Odit nesciunt dolorem nisi iste iusto. Animi v...  ...      Blocked   \n",
      "\n",
      "   Severity Level User Information  \\\n",
      "0             Low    Reyansh Dugal   \n",
      "1             Low       Sumer Rana   \n",
      "2             Low     Himmat Karpe   \n",
      "3          Medium       Fateh Kibe   \n",
      "4             Low     Dhanush Chad   \n",
      "\n",
      "                                  Device Information Network Segment  \\\n",
      "0  Mozilla/5.0 (compatible; MSIE 8.0; Windows NT ...       Segment A   \n",
      "1  Mozilla/5.0 (compatible; MSIE 8.0; Windows NT ...       Segment B   \n",
      "2  Mozilla/5.0 (compatible; MSIE 9.0; Windows NT ...       Segment C   \n",
      "3  Mozilla/5.0 (Macintosh; PPC Mac OS X 10_11_5; ...       Segment B   \n",
      "4  Mozilla/5.0 (compatible; MSIE 5.0; Windows NT ...       Segment C   \n",
      "\n",
      "    Geo-location Data Proxy Information Firewall Logs IDS/IPS Alerts  \\\n",
      "0  Jamshedpur, Sikkim      150.9.97.135      Log Data            NaN   \n",
      "1  Bilaspur, Nagaland               NaN      Log Data            NaN   \n",
      "2   Bokaro, Rajasthan    114.133.48.179      Log Data     Alert Data   \n",
      "3  Jaunpur, Rajasthan               NaN           NaN     Alert Data   \n",
      "4  Anantapur, Tripura     149.6.110.119           NaN     Alert Data   \n",
      "\n",
      "  Log Source  \n",
      "0     Server  \n",
      "1   Firewall  \n",
      "2   Firewall  \n",
      "3   Firewall  \n",
      "4   Firewall  \n",
      "\n",
      "[5 rows x 25 columns]\n"
     ]
    }
   ],
   "source": [
    "import matplotlib.pyplot as plt\n",
    "import pandas as pd\n",
    "import csv\n",
    "\n",
    "\n",
    "filnavn = \"sikkerheit_utf8.csv\" # filen min\n",
    "\n",
    "\n",
    "df = pd.read_csv(filnavn, delimiter=\";\", encoding=\"utf-8\", on_bad_lines='skip') # https://stackoverflow.com/questions/18039057/pandas-parser-cparsererror-error-tokenizing-data\n",
    "\n",
    "print(df.head())\n"
   ]
  },
  {
   "cell_type": "code",
   "execution_count": 67,
   "metadata": {},
   "outputs": [
    {
     "name": "stdout",
     "output_type": "stream",
     "text": [
      "protocol counts:\n",
      "Protocol\n",
      "ICMP    13429\n",
      "UDP     13299\n",
      "TCP     13272\n",
      "Name: count, dtype: int64\n",
      "\n"
     ]
    }
   ],
   "source": [
    "\n",
    "protocol_counts = df['Protocol'].value_counts()\n",
    "print(f\"protocol counts:\\n{protocol_counts}\\n\")\n"
   ]
  },
  {
   "cell_type": "code",
   "execution_count": 68,
   "metadata": {},
   "outputs": [
    {
     "name": "stdout",
     "output_type": "stream",
     "text": [
      "The attack types are: ['Malware' 'DDoS' 'Intrusion']\n",
      "DDoS attacks utgjør 33.57% av totalen\n"
     ]
    },
    {
     "data": {
      "image/png": "[encoded data removed]",
      "text/plain": [
       "<Figure size 640x480 with 1 Axes>"
      ]
     },
     "metadata": {},
     "output_type": "display_data"
    }
   ],
   "source": [
    "attack_types = df['Attack Type'].unique() #Finner hver unique og lager en liste\n",
    "print(f\"The attack types are: {attack_types}\") #printer listen\n",
    "\n",
    "\n",
    "\n",
    "DDoS_count = (df['Attack Type'] == 'DDoS').sum() # Bare DDoS\n",
    "total_attacks = df['Attack Type'].count() # teller mengde attacks\n",
    "\n",
    "DDoS_percent = DDoS_count/total_attacks *100 # Omgjør dette til en prosent\n",
    "\n",
    "print(f\"DDoS attacks utgjør {DDoS_percent}% av totalen\") #printer det vi fant\n",
    "\n",
    "\n",
    "Maleware_count = (df['Attack Type'] == 'Malware').sum() # Bruker samme metode for summering, bare for de andre \"attack types\"\n",
    "Intrustion_count = (df['Attack Type'] == 'Intrusion').sum()\n",
    "\n",
    "plt.title('Attacks')\n",
    "plt.ylabel('Attack')\n",
    "plt.xlabel('Amount')\n",
    "plt.bar(['DDoS', 'Maleware', 'Intrusion'], [DDoS_count, Maleware_count, Intrustion_count])\n",
    "plt.show()"
   ]
  },
  {
   "cell_type": "code",
   "execution_count": null,
   "metadata": {},
   "outputs": [
    {
     "name": "stdout",
     "output_type": "stream",
     "text": [
      "17953\n"
     ]
    }
   ],
   "source": [
    "# Ideen fra: https://stackoverflow.com/questions/67812657/how-can-i-show-a-specific-word-in-a-data-set\n",
    "windows_count = 0\n",
    "windows_total = []\n",
    "windows_lista = {'Windows'}\n",
    "\n",
    "for line in df['Device Information']:\n",
    "   found = False\n",
    "   for word in windows_lista:\n",
    "      if line.find(word) != -1:\n",
    "         found = True\n",
    "         windows_total.append(word)\n",
    "         break\n",
    "   if not found:\n",
    "      windows_total.append(\"None\")\n",
    "\n",
    "for word in windows_total:\n",
    "   if word == 'Windows':\n",
    "      windows_count += 1\n",
    "\n"
   ]
  },
  {
   "cell_type": "code",
   "execution_count": 73,
   "metadata": {},
   "outputs": [
    {
     "name": "stdout",
     "output_type": "stream",
     "text": [
      "Operativ systemet som blir angrepet mest er: Windows\n"
     ]
    }
   ],
   "source": [
    "macintosh_count = 0\n",
    "macintosh_total = []\n",
    "macintosh_lista = {'Macintosh'}\n",
    "\n",
    "for line in df['Device Information']:\n",
    "   found = False\n",
    "   for word in macintosh_lista:\n",
    "      if line.find(word) != -1:\n",
    "         found = True\n",
    "         macintosh_total.append(word)\n",
    "         break\n",
    "   if not found:\n",
    "      macintosh_total.append(\"None\")\n",
    "\n",
    "for word in macintosh_total:\n",
    "   if word == 'Macintosh':\n",
    "      macintosh_count += 1\n",
    "\n",
    "if windows_count > macintosh_count:\n",
    "    print(f\"Operativ systemet som blir angrepet mest er: Windows\")\n",
    "else:\n",
    "    print(f\"Operativ systemet som blir angrepet mest er: Macintosh\")"
   ]
  },
  {
   "cell_type": "code",
   "execution_count": null,
   "metadata": {},
   "outputs": [
    {
     "data": {
      "image/png": "[encoded data removed]",
      "text/plain": [
       "<Figure size 640x480 with 1 Axes>"
      ]
     },
     "metadata": {},
     "output_type": "display_data"
    }
   ],
   "source": [
    "plt.title('Device information')\n",
    "plt.ylabel('attacks')\n",
    "plt.xlabel('Device')\n",
    "plt.bar(['Windows', 'Macintosh'], [windows_count, macintosh_count])\n",
    "plt.show()"
   ]
  }
 ],
 "metadata": {
  "kernelspec": {
   "display_name": "Python 3",
   "language": "python",
   "name": "python3"
  },
  "language_info": {
   "codemirror_mode": {
    "name": "ipython",
    "version": 3
   },
   "file_extension": ".py",
   "mimetype": "text/x-python",
   "name": "python",
   "nbconvert_exporter": "python",
   "pygments_lexer": "ipython3",
   "version": "3.12.2"
  }
 },
 "nbformat": 4,
 "nbformat_minor": 2
}
