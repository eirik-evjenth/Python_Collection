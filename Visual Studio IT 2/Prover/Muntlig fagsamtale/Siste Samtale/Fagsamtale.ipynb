{
 "cells": [
  {
   "cell_type": "code",
   "execution_count": 14,
   "id": "8d67710b",
   "metadata": {},
   "outputs": [],
   "source": [
    "import pandas as pd\n",
    "import matplotlib.pyplot as plt\n",
    "import timeit\n",
    "\n",
    "\n",
    "fil = \"stats.csv\"\n",
    "\n",
    "df = pd.read_csv(fil, encoding=\"latin1\", delimiter=\";\")"
   ]
  },
  {
   "cell_type": "code",
   "execution_count": null,
   "id": "93e705d5",
   "metadata": {},
   "outputs": [],
   "source": [
    "df.nlargest(3,\"G\")[[\"Player\",\"G\"]]"
   ]
  },
  {
   "cell_type": "code",
   "execution_count": null,
   "id": "9e0a48c1",
   "metadata": {},
   "outputs": [],
   "source": [
    "df.groupby(\"Tm\")[\"G\"].max().sort_values(ascending=False)"
   ]
  },
  {
   "cell_type": "code",
   "execution_count": null,
   "id": "ff5db126",
   "metadata": {},
   "outputs": [],
   "source": [
    "df[df[\"Tm\"]==\"LAL\"][\"Player\"].value_counts().sum()"
   ]
  },
  {
   "cell_type": "code",
   "execution_count": null,
   "id": "2bca3f06",
   "metadata": {},
   "outputs": [],
   "source": [
    "df[(df[\"MP\"] > 30) & (df[\"FG%\"] > 0.5)][\"Player\"]"
   ]
  },
  {
   "cell_type": "code",
   "execution_count": null,
   "id": "10c0f2c1",
   "metadata": {},
   "outputs": [],
   "source": [
    "df.query(\"MP > 30 and `FG%` > 0.5\")[\"Player\"]"
   ]
  },
  {
   "cell_type": "code",
   "execution_count": null,
   "id": "278ca32f",
   "metadata": {},
   "outputs": [],
   "source": [
    "df.pivot_table(values=\"PTS\", index=\"Tm\", aggfunc=\"sum\").sort_values(by=\"PTS\", ascending=False)"
   ]
  },
  {
   "cell_type": "code",
   "execution_count": null,
   "id": "64019aea",
   "metadata": {},
   "outputs": [],
   "source": [
    "df[\"Def\"] = df[\"TRB\"] + df[\"BLK\"].apply(lambda x: 2*x) + df[\"STL\"].apply(lambda x: 2*x)"
   ]
  },
  {
   "cell_type": "code",
   "execution_count": null,
   "id": "bf20f12d",
   "metadata": {},
   "outputs": [],
   "source": [
    "df[\"Off\"] = df[\"PTS\"] + df[\"AST\"]"
   ]
  },
  {
   "cell_type": "code",
   "execution_count": null,
   "id": "ff594e51",
   "metadata": {},
   "outputs": [],
   "source": [
    "df[\"Godhet\"] = df[\"Off\"] + df[\"Def\"].apply(lambda x: 2*x)"
   ]
  },
  {
   "cell_type": "code",
   "execution_count": null,
   "id": "fbc7c4e9",
   "metadata": {},
   "outputs": [],
   "source": [
    "df.pivot_table(values=[\"Off\", \"Def\"], index=\"Tm\", aggfunc=\"sum\").sort_values(by=\"Off\", ascending=False)"
   ]
  },
  {
   "cell_type": "code",
   "execution_count": null,
   "id": "3217c040",
   "metadata": {},
   "outputs": [],
   "source": [
    "df.pivot_table(values=\"Godhet\", index=\"Tm\", aggfunc=\"sum\").sort_values(by=\"Godhet\", ascending=False)"
   ]
  },
  {
   "cell_type": "code",
   "execution_count": null,
   "id": "257c61ae",
   "metadata": {},
   "outputs": [],
   "source": [
    "df.plot(kind=\"scatter\", x=\"Def\", y=\"Off\")"
   ]
  },
  {
   "cell_type": "code",
   "execution_count": null,
   "id": "c5554db7",
   "metadata": {},
   "outputs": [],
   "source": [
    "df[\"Off\"].corr(df[\"Def\"])"
   ]
  },
  {
   "cell_type": "code",
   "execution_count": null,
   "id": "586d6021",
   "metadata": {},
   "outputs": [],
   "source": [
    "df.groupby(\"Tm\").sum().plot(kind=\"scatter\", x=\"Def\", y=\"Off\")"
   ]
  },
  {
   "cell_type": "code",
   "execution_count": null,
   "id": "08593044",
   "metadata": {},
   "outputs": [],
   "source": [
    "df[\"Age\"].plot(kind=\"hist\",bins=20)"
   ]
  },
  {
   "cell_type": "code",
   "execution_count": null,
   "id": "41c8ad96",
   "metadata": {},
   "outputs": [],
   "source": [
    "df.memory_usage(deep=True).sum()"
   ]
  },
  {
   "cell_type": "code",
   "execution_count": null,
   "id": "82637715",
   "metadata": {},
   "outputs": [],
   "source": [
    "df.groupby(\"Tm\")[\"G\"].mean().sort_values(ascending=False)"
   ]
  },
  {
   "cell_type": "code",
   "execution_count": null,
   "id": "43d276aa",
   "metadata": {},
   "outputs": [
    {
     "data": {
      "text/html": [
       "<div>\n",
       "<style scoped>\n",
       "    .dataframe tbody tr th:only-of-type {\n",
       "        vertical-align: middle;\n",
       "    }\n",
       "\n",
       "    .dataframe tbody tr th {\n",
       "        vertical-align: top;\n",
       "    }\n",
       "\n",
       "    .dataframe thead th {\n",
       "        text-align: right;\n",
       "    }\n",
       "</style>\n",
       "<table border=\"1\" class=\"dataframe\">\n",
       "  <thead>\n",
       "    <tr style=\"text-align: right;\">\n",
       "      <th></th>\n",
       "      <th>G</th>\n",
       "    </tr>\n",
       "    <tr>\n",
       "      <th>Tm</th>\n",
       "      <th></th>\n",
       "    </tr>\n",
       "  </thead>\n",
       "  <tbody>\n",
       "    <tr>\n",
       "      <th>ATL</th>\n",
       "      <td>5.400000</td>\n",
       "    </tr>\n",
       "    <tr>\n",
       "      <th>BOS</th>\n",
       "      <td>14.142857</td>\n",
       "    </tr>\n",
       "    <tr>\n",
       "      <th>BRK</th>\n",
       "      <td>2.785714</td>\n",
       "    </tr>\n",
       "    <tr>\n",
       "      <th>CLE</th>\n",
       "      <td>3.846154</td>\n",
       "    </tr>\n",
       "    <tr>\n",
       "      <th>DEN</th>\n",
       "      <td>12.600000</td>\n",
       "    </tr>\n",
       "    <tr>\n",
       "      <th>GSW</th>\n",
       "      <td>10.769231</td>\n",
       "    </tr>\n",
       "    <tr>\n",
       "      <th>LAC</th>\n",
       "      <td>3.571429</td>\n",
       "    </tr>\n",
       "    <tr>\n",
       "      <th>LAL</th>\n",
       "      <td>12.200000</td>\n",
       "    </tr>\n",
       "    <tr>\n",
       "      <th>MEM</th>\n",
       "      <td>5.416667</td>\n",
       "    </tr>\n",
       "    <tr>\n",
       "      <th>MIA</th>\n",
       "      <td>15.866667</td>\n",
       "    </tr>\n",
       "    <tr>\n",
       "      <th>MIL</th>\n",
       "      <td>3.666667</td>\n",
       "    </tr>\n",
       "    <tr>\n",
       "      <th>MIN</th>\n",
       "      <td>3.769231</td>\n",
       "    </tr>\n",
       "    <tr>\n",
       "      <th>NYK</th>\n",
       "      <td>8.666667</td>\n",
       "    </tr>\n",
       "    <tr>\n",
       "      <th>PHI</th>\n",
       "      <td>7.800000</td>\n",
       "    </tr>\n",
       "    <tr>\n",
       "      <th>PHO</th>\n",
       "      <td>8.428571</td>\n",
       "    </tr>\n",
       "    <tr>\n",
       "      <th>SAC</th>\n",
       "      <td>6.076923</td>\n",
       "    </tr>\n",
       "  </tbody>\n",
       "</table>\n",
       "</div>"
      ],
      "text/plain": [
       "             G\n",
       "Tm            \n",
       "ATL   5.400000\n",
       "BOS  14.142857\n",
       "BRK   2.785714\n",
       "CLE   3.846154\n",
       "DEN  12.600000\n",
       "GSW  10.769231\n",
       "LAC   3.571429\n",
       "LAL  12.200000\n",
       "MEM   5.416667\n",
       "MIA  15.866667\n",
       "MIL   3.666667\n",
       "MIN   3.769231\n",
       "NYK   8.666667\n",
       "PHI   7.800000\n",
       "PHO   8.428571\n",
       "SAC   6.076923"
      ]
     },
     "execution_count": 13,
     "metadata": {},
     "output_type": "execute_result"
    }
   ],
   "source": [
    "df.pivot_table(values=\"G\", index=\"Tm\", aggfunc=\"mean\").sort_values(by=\"G\",ascending=False)"
   ]
  },
  {
   "cell_type": "code",
   "execution_count": 12,
   "id": "85144c93",
   "metadata": {},
   "outputs": [
    {
     "name": "stdout",
     "output_type": "stream",
     "text": [
      "time 1 = 0.5594184000219684, time 2 = 1.9526529999857303\n"
     ]
    }
   ],
   "source": [
    "time1 = timeit.timeit(lambda: df.groupby(\"Tm\")[\"G\"].mean().sort_values(ascending=False), number=1000)\n",
    "time2 = timeit.timeit(lambda: df.pivot_table(values=\"G\", index=\"Tm\", aggfunc=\"mean\"), number=1000)\n",
    "\n",
    "print(f\"time 1 = {time1}, time 2 = {time2}\")"
   ]
  },
  {
   "cell_type": "code",
   "execution_count": 26,
   "id": "5ad02376",
   "metadata": {},
   "outputs": [
    {
     "data": {
      "text/plain": [
       "0    Bam Adebayo\n",
       "Name: Player, dtype: object"
      ]
     },
     "execution_count": 26,
     "metadata": {},
     "output_type": "execute_result"
    }
   ],
   "source": [
    "df[df.isnull().any(axis=1)][\"Player\"]"
   ]
  },
  {
   "cell_type": "code",
   "execution_count": 22,
   "id": "fe0809b7",
   "metadata": {},
   "outputs": [
    {
     "data": {
      "text/plain": [
       "Rk        0\n",
       "Player    0\n",
       "Pos       0\n",
       "Age       0\n",
       "Tm        0\n",
       "G         1\n",
       "GS        0\n",
       "MP        0\n",
       "FG        0\n",
       "FGA       0\n",
       "FG%       0\n",
       "3P        0\n",
       "3PA       0\n",
       "3P%       0\n",
       "2P        0\n",
       "2PA       0\n",
       "2P%       0\n",
       "eFG%      0\n",
       "FT        0\n",
       "FTA       0\n",
       "FT%       0\n",
       "ORB       0\n",
       "DRB       0\n",
       "TRB       0\n",
       "AST       0\n",
       "STL       0\n",
       "BLK       0\n",
       "TOV       0\n",
       "PF        0\n",
       "PTS       0\n",
       "dtype: int64"
      ]
     },
     "execution_count": 22,
     "metadata": {},
     "output_type": "execute_result"
    }
   ],
   "source": [
    "df.isna().sum()"
   ]
  },
  {
   "cell_type": "code",
   "execution_count": 21,
   "id": "32a12545",
   "metadata": {},
   "outputs": [
    {
     "data": {
      "text/plain": [
       "1"
      ]
     },
     "execution_count": 21,
     "metadata": {},
     "output_type": "execute_result"
    }
   ],
   "source": [
    "df[\"G\"].isna().sum()"
   ]
  }
 ],
 "metadata": {
  "kernelspec": {
   "display_name": "Python 3",
   "language": "python",
   "name": "python3"
  },
  "language_info": {
   "codemirror_mode": {
    "name": "ipython",
    "version": 3
   },
   "file_extension": ".py",
   "mimetype": "text/x-python",
   "name": "python",
   "nbconvert_exporter": "python",
   "pygments_lexer": "ipython3",
   "version": "3.12.2"
  }
 },
 "nbformat": 4,
 "nbformat_minor": 5
}
