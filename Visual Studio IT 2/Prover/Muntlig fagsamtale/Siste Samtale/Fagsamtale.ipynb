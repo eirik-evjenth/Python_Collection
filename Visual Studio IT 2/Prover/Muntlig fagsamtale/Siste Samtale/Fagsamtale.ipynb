{
 "cells": [
  {
   "cell_type": "code",
   "execution_count": 2,
   "id": "8d67710b",
   "metadata": {},
   "outputs": [],
   "source": [
    "import pandas as pd\n",
    "import matplotlib.pyplot as plt\n",
    "\n",
    "\n",
    "fil = \"stats.csv\"\n",
    "\n",
    "df = pd.read_csv(fil, encoding=\"latin1\", delimiter=\";\")"
   ]
  },
  {
   "cell_type": "code",
   "execution_count": 3,
   "id": "93e705d5",
   "metadata": {},
   "outputs": [
    {
     "data": {
      "text/html": [
       "<div>\n",
       "<style scoped>\n",
       "    .dataframe tbody tr th:only-of-type {\n",
       "        vertical-align: middle;\n",
       "    }\n",
       "\n",
       "    .dataframe tbody tr th {\n",
       "        vertical-align: top;\n",
       "    }\n",
       "\n",
       "    .dataframe thead th {\n",
       "        text-align: right;\n",
       "    }\n",
       "</style>\n",
       "<table border=\"1\" class=\"dataframe\">\n",
       "  <thead>\n",
       "    <tr style=\"text-align: right;\">\n",
       "      <th></th>\n",
       "      <th>Player</th>\n",
       "      <th>G</th>\n",
       "    </tr>\n",
       "  </thead>\n",
       "  <tbody>\n",
       "    <tr>\n",
       "      <th>0</th>\n",
       "      <td>Bam Adebayo</td>\n",
       "      <td>23</td>\n",
       "    </tr>\n",
       "    <tr>\n",
       "      <th>121</th>\n",
       "      <td>Kyle Lowry</td>\n",
       "      <td>23</td>\n",
       "    </tr>\n",
       "    <tr>\n",
       "      <th>124</th>\n",
       "      <td>Caleb Martin</td>\n",
       "      <td>23</td>\n",
       "    </tr>\n",
       "  </tbody>\n",
       "</table>\n",
       "</div>"
      ],
      "text/plain": [
       "           Player   G\n",
       "0     Bam Adebayo  23\n",
       "121    Kyle Lowry  23\n",
       "124  Caleb Martin  23"
      ]
     },
     "execution_count": 3,
     "metadata": {},
     "output_type": "execute_result"
    }
   ],
   "source": [
    "df.nlargest(3,\"G\")[[\"Player\",\"G\"]]"
   ]
  },
  {
   "cell_type": "code",
   "execution_count": 4,
   "id": "9e0a48c1",
   "metadata": {},
   "outputs": [
    {
     "data": {
      "text/plain": [
       "Tm\n",
       "MIA    23\n",
       "BOS    20\n",
       "DEN    20\n",
       "LAL    16\n",
       "GSW    13\n",
       "NYK    11\n",
       "PHI    11\n",
       "PHO    11\n",
       "SAC     7\n",
       "ATL     6\n",
       "MEM     6\n",
       "CLE     5\n",
       "LAC     5\n",
       "MIL     5\n",
       "MIN     5\n",
       "BRK     4\n",
       "Name: G, dtype: int64"
      ]
     },
     "execution_count": 4,
     "metadata": {},
     "output_type": "execute_result"
    }
   ],
   "source": [
    "df.groupby(\"Tm\")[\"G\"].max().sort_values(ascending=False)"
   ]
  },
  {
   "cell_type": "code",
   "execution_count": 5,
   "id": "ff5db126",
   "metadata": {},
   "outputs": [
    {
     "data": {
      "text/plain": [
       "15"
      ]
     },
     "execution_count": 5,
     "metadata": {},
     "output_type": "execute_result"
    }
   ],
   "source": [
    "df[df[\"Tm\"]==\"LAL\"][\"Player\"].value_counts().sum()"
   ]
  },
  {
   "cell_type": "code",
   "execution_count": 6,
   "id": "2bca3f06",
   "metadata": {},
   "outputs": [
    {
     "data": {
      "text/plain": [
       "4              Jarrett Allen\n",
       "6      Giannis Antetokounmpo\n",
       "8              Deandre Ayton\n",
       "20              Devin Booker\n",
       "48             Anthony Davis\n",
       "64               Rudy Gobert\n",
       "65              Aaron Gordon\n",
       "77             Tobias Harris\n",
       "97           Cameron Johnson\n",
       "99              Nikola Joki?\n",
       "113            Kawhi Leonard\n",
       "118              Brook Lopez\n",
       "124             Caleb Martin\n",
       "195       Xavier Tillman Sr.\n",
       "Name: Player, dtype: object"
      ]
     },
     "execution_count": 6,
     "metadata": {},
     "output_type": "execute_result"
    }
   ],
   "source": [
    "df[(df[\"MP\"] > 30) & (df[\"FG%\"] > 0.5)][\"Player\"]"
   ]
  },
  {
   "cell_type": "code",
   "execution_count": 7,
   "id": "10c0f2c1",
   "metadata": {},
   "outputs": [
    {
     "data": {
      "text/plain": [
       "4              Jarrett Allen\n",
       "6      Giannis Antetokounmpo\n",
       "8              Deandre Ayton\n",
       "20              Devin Booker\n",
       "48             Anthony Davis\n",
       "64               Rudy Gobert\n",
       "65              Aaron Gordon\n",
       "77             Tobias Harris\n",
       "97           Cameron Johnson\n",
       "99              Nikola Joki?\n",
       "113            Kawhi Leonard\n",
       "118              Brook Lopez\n",
       "124             Caleb Martin\n",
       "195       Xavier Tillman Sr.\n",
       "Name: Player, dtype: object"
      ]
     },
     "execution_count": 7,
     "metadata": {},
     "output_type": "execute_result"
    }
   ],
   "source": [
    "df.query(\"MP > 30 and `FG%` > 0.5\")[\"Player\"]"
   ]
  },
  {
   "cell_type": "code",
   "execution_count": 8,
   "id": "278ca32f",
   "metadata": {},
   "outputs": [
    {
     "data": {
      "text/html": [
       "<div>\n",
       "<style scoped>\n",
       "    .dataframe tbody tr th:only-of-type {\n",
       "        vertical-align: middle;\n",
       "    }\n",
       "\n",
       "    .dataframe tbody tr th {\n",
       "        vertical-align: top;\n",
       "    }\n",
       "\n",
       "    .dataframe thead th {\n",
       "        text-align: right;\n",
       "    }\n",
       "</style>\n",
       "<table border=\"1\" class=\"dataframe\">\n",
       "  <thead>\n",
       "    <tr style=\"text-align: right;\">\n",
       "      <th></th>\n",
       "      <th>PTS</th>\n",
       "    </tr>\n",
       "    <tr>\n",
       "      <th>Tm</th>\n",
       "      <th></th>\n",
       "    </tr>\n",
       "  </thead>\n",
       "  <tbody>\n",
       "    <tr>\n",
       "      <th>LAC</th>\n",
       "      <td>139.8</td>\n",
       "    </tr>\n",
       "    <tr>\n",
       "      <th>MIL</th>\n",
       "      <td>137.5</td>\n",
       "    </tr>\n",
       "    <tr>\n",
       "      <th>MIA</th>\n",
       "      <td>134.4</td>\n",
       "    </tr>\n",
       "    <tr>\n",
       "      <th>PHO</th>\n",
       "      <td>130.5</td>\n",
       "    </tr>\n",
       "    <tr>\n",
       "      <th>ATL</th>\n",
       "      <td>119.6</td>\n",
       "    </tr>\n",
       "    <tr>\n",
       "      <th>BOS</th>\n",
       "      <td>118.9</td>\n",
       "    </tr>\n",
       "    <tr>\n",
       "      <th>SAC</th>\n",
       "      <td>118.1</td>\n",
       "    </tr>\n",
       "    <tr>\n",
       "      <th>LAL</th>\n",
       "      <td>118.0</td>\n",
       "    </tr>\n",
       "    <tr>\n",
       "      <th>GSW</th>\n",
       "      <td>117.5</td>\n",
       "    </tr>\n",
       "    <tr>\n",
       "      <th>DEN</th>\n",
       "      <td>117.0</td>\n",
       "    </tr>\n",
       "    <tr>\n",
       "      <th>MEM</th>\n",
       "      <td>111.2</td>\n",
       "    </tr>\n",
       "    <tr>\n",
       "      <th>PHI</th>\n",
       "      <td>111.2</td>\n",
       "    </tr>\n",
       "    <tr>\n",
       "      <th>MIN</th>\n",
       "      <td>108.2</td>\n",
       "    </tr>\n",
       "    <tr>\n",
       "      <th>NYK</th>\n",
       "      <td>105.2</td>\n",
       "    </tr>\n",
       "    <tr>\n",
       "      <th>BRK</th>\n",
       "      <td>101.4</td>\n",
       "    </tr>\n",
       "    <tr>\n",
       "      <th>CLE</th>\n",
       "      <td>99.2</td>\n",
       "    </tr>\n",
       "  </tbody>\n",
       "</table>\n",
       "</div>"
      ],
      "text/plain": [
       "       PTS\n",
       "Tm        \n",
       "LAC  139.8\n",
       "MIL  137.5\n",
       "MIA  134.4\n",
       "PHO  130.5\n",
       "ATL  119.6\n",
       "BOS  118.9\n",
       "SAC  118.1\n",
       "LAL  118.0\n",
       "GSW  117.5\n",
       "DEN  117.0\n",
       "MEM  111.2\n",
       "PHI  111.2\n",
       "MIN  108.2\n",
       "NYK  105.2\n",
       "BRK  101.4\n",
       "CLE   99.2"
      ]
     },
     "execution_count": 8,
     "metadata": {},
     "output_type": "execute_result"
    }
   ],
   "source": [
    "df.pivot_table(values=\"PTS\", index=\"Tm\", aggfunc=\"sum\").sort_values(by=\"PTS\", ascending=False)"
   ]
  },
  {
   "cell_type": "code",
   "execution_count": 9,
   "id": "64019aea",
   "metadata": {},
   "outputs": [],
   "source": [
    "df[\"Def\"] = df[\"TRB\"] + df[\"BLK\"].apply(lambda x: 2*x) + df[\"STL\"].apply(lambda x: 2*x)"
   ]
  },
  {
   "cell_type": "code",
   "execution_count": 10,
   "id": "bf20f12d",
   "metadata": {},
   "outputs": [],
   "source": [
    "df[\"Off\"] = df[\"PTS\"] + df[\"AST\"]"
   ]
  },
  {
   "cell_type": "code",
   "execution_count": 11,
   "id": "ff594e51",
   "metadata": {},
   "outputs": [],
   "source": [
    "df[\"Godhet\"] = df[\"Off\"] + df[\"Def\"].apply(lambda x: 2*x)"
   ]
  },
  {
   "cell_type": "code",
   "execution_count": 12,
   "id": "fbc7c4e9",
   "metadata": {},
   "outputs": [
    {
     "data": {
      "text/html": [
       "<div>\n",
       "<style scoped>\n",
       "    .dataframe tbody tr th:only-of-type {\n",
       "        vertical-align: middle;\n",
       "    }\n",
       "\n",
       "    .dataframe tbody tr th {\n",
       "        vertical-align: top;\n",
       "    }\n",
       "\n",
       "    .dataframe thead th {\n",
       "        text-align: right;\n",
       "    }\n",
       "</style>\n",
       "<table border=\"1\" class=\"dataframe\">\n",
       "  <thead>\n",
       "    <tr style=\"text-align: right;\">\n",
       "      <th></th>\n",
       "      <th>Def</th>\n",
       "      <th>Off</th>\n",
       "    </tr>\n",
       "    <tr>\n",
       "      <th>Tm</th>\n",
       "      <th></th>\n",
       "      <th></th>\n",
       "    </tr>\n",
       "  </thead>\n",
       "  <tbody>\n",
       "    <tr>\n",
       "      <th>MIL</th>\n",
       "      <td>75.7</td>\n",
       "      <td>167.8</td>\n",
       "    </tr>\n",
       "    <tr>\n",
       "      <th>LAC</th>\n",
       "      <td>71.7</td>\n",
       "      <td>165.6</td>\n",
       "    </tr>\n",
       "    <tr>\n",
       "      <th>MIA</th>\n",
       "      <td>75.3</td>\n",
       "      <td>161.5</td>\n",
       "    </tr>\n",
       "    <tr>\n",
       "      <th>PHO</th>\n",
       "      <td>77.2</td>\n",
       "      <td>159.9</td>\n",
       "    </tr>\n",
       "    <tr>\n",
       "      <th>GSW</th>\n",
       "      <td>74.9</td>\n",
       "      <td>146.8</td>\n",
       "    </tr>\n",
       "    <tr>\n",
       "      <th>ATL</th>\n",
       "      <td>70.6</td>\n",
       "      <td>146.1</td>\n",
       "    </tr>\n",
       "    <tr>\n",
       "      <th>BOS</th>\n",
       "      <td>73.9</td>\n",
       "      <td>144.5</td>\n",
       "    </tr>\n",
       "    <tr>\n",
       "      <th>LAL</th>\n",
       "      <td>76.8</td>\n",
       "      <td>144.5</td>\n",
       "    </tr>\n",
       "    <tr>\n",
       "      <th>DEN</th>\n",
       "      <td>72.3</td>\n",
       "      <td>143.9</td>\n",
       "    </tr>\n",
       "    <tr>\n",
       "      <th>SAC</th>\n",
       "      <td>73.5</td>\n",
       "      <td>140.6</td>\n",
       "    </tr>\n",
       "    <tr>\n",
       "      <th>MEM</th>\n",
       "      <td>70.6</td>\n",
       "      <td>136.5</td>\n",
       "    </tr>\n",
       "    <tr>\n",
       "      <th>MIN</th>\n",
       "      <td>70.0</td>\n",
       "      <td>132.4</td>\n",
       "    </tr>\n",
       "    <tr>\n",
       "      <th>PHI</th>\n",
       "      <td>75.8</td>\n",
       "      <td>131.3</td>\n",
       "    </tr>\n",
       "    <tr>\n",
       "      <th>BRK</th>\n",
       "      <td>57.4</td>\n",
       "      <td>126.5</td>\n",
       "    </tr>\n",
       "    <tr>\n",
       "      <th>NYK</th>\n",
       "      <td>71.2</td>\n",
       "      <td>125.6</td>\n",
       "    </tr>\n",
       "    <tr>\n",
       "      <th>CLE</th>\n",
       "      <td>62.7</td>\n",
       "      <td>122.0</td>\n",
       "    </tr>\n",
       "  </tbody>\n",
       "</table>\n",
       "</div>"
      ],
      "text/plain": [
       "      Def    Off\n",
       "Tm              \n",
       "MIL  75.7  167.8\n",
       "LAC  71.7  165.6\n",
       "MIA  75.3  161.5\n",
       "PHO  77.2  159.9\n",
       "GSW  74.9  146.8\n",
       "ATL  70.6  146.1\n",
       "BOS  73.9  144.5\n",
       "LAL  76.8  144.5\n",
       "DEN  72.3  143.9\n",
       "SAC  73.5  140.6\n",
       "MEM  70.6  136.5\n",
       "MIN  70.0  132.4\n",
       "PHI  75.8  131.3\n",
       "BRK  57.4  126.5\n",
       "NYK  71.2  125.6\n",
       "CLE  62.7  122.0"
      ]
     },
     "execution_count": 12,
     "metadata": {},
     "output_type": "execute_result"
    }
   ],
   "source": [
    "df.pivot_table(values=[\"Off\", \"Def\"], index=\"Tm\", aggfunc=\"sum\").sort_values(by=\"Off\", ascending=False)"
   ]
  },
  {
   "cell_type": "code",
   "execution_count": 13,
   "id": "3217c040",
   "metadata": {},
   "outputs": [
    {
     "data": {
      "text/html": [
       "<div>\n",
       "<style scoped>\n",
       "    .dataframe tbody tr th:only-of-type {\n",
       "        vertical-align: middle;\n",
       "    }\n",
       "\n",
       "    .dataframe tbody tr th {\n",
       "        vertical-align: top;\n",
       "    }\n",
       "\n",
       "    .dataframe thead th {\n",
       "        text-align: right;\n",
       "    }\n",
       "</style>\n",
       "<table border=\"1\" class=\"dataframe\">\n",
       "  <thead>\n",
       "    <tr style=\"text-align: right;\">\n",
       "      <th></th>\n",
       "      <th>Godhet</th>\n",
       "    </tr>\n",
       "    <tr>\n",
       "      <th>Tm</th>\n",
       "      <th></th>\n",
       "    </tr>\n",
       "  </thead>\n",
       "  <tbody>\n",
       "    <tr>\n",
       "      <th>MIL</th>\n",
       "      <td>319.2</td>\n",
       "    </tr>\n",
       "    <tr>\n",
       "      <th>PHO</th>\n",
       "      <td>314.3</td>\n",
       "    </tr>\n",
       "    <tr>\n",
       "      <th>MIA</th>\n",
       "      <td>312.1</td>\n",
       "    </tr>\n",
       "    <tr>\n",
       "      <th>LAC</th>\n",
       "      <td>309.0</td>\n",
       "    </tr>\n",
       "    <tr>\n",
       "      <th>LAL</th>\n",
       "      <td>298.1</td>\n",
       "    </tr>\n",
       "    <tr>\n",
       "      <th>GSW</th>\n",
       "      <td>296.6</td>\n",
       "    </tr>\n",
       "    <tr>\n",
       "      <th>BOS</th>\n",
       "      <td>292.3</td>\n",
       "    </tr>\n",
       "    <tr>\n",
       "      <th>DEN</th>\n",
       "      <td>288.5</td>\n",
       "    </tr>\n",
       "    <tr>\n",
       "      <th>SAC</th>\n",
       "      <td>287.6</td>\n",
       "    </tr>\n",
       "    <tr>\n",
       "      <th>ATL</th>\n",
       "      <td>287.3</td>\n",
       "    </tr>\n",
       "    <tr>\n",
       "      <th>PHI</th>\n",
       "      <td>282.9</td>\n",
       "    </tr>\n",
       "    <tr>\n",
       "      <th>MEM</th>\n",
       "      <td>277.7</td>\n",
       "    </tr>\n",
       "    <tr>\n",
       "      <th>MIN</th>\n",
       "      <td>272.4</td>\n",
       "    </tr>\n",
       "    <tr>\n",
       "      <th>NYK</th>\n",
       "      <td>268.0</td>\n",
       "    </tr>\n",
       "    <tr>\n",
       "      <th>CLE</th>\n",
       "      <td>247.4</td>\n",
       "    </tr>\n",
       "    <tr>\n",
       "      <th>BRK</th>\n",
       "      <td>241.3</td>\n",
       "    </tr>\n",
       "  </tbody>\n",
       "</table>\n",
       "</div>"
      ],
      "text/plain": [
       "     Godhet\n",
       "Tm         \n",
       "MIL   319.2\n",
       "PHO   314.3\n",
       "MIA   312.1\n",
       "LAC   309.0\n",
       "LAL   298.1\n",
       "GSW   296.6\n",
       "BOS   292.3\n",
       "DEN   288.5\n",
       "SAC   287.6\n",
       "ATL   287.3\n",
       "PHI   282.9\n",
       "MEM   277.7\n",
       "MIN   272.4\n",
       "NYK   268.0\n",
       "CLE   247.4\n",
       "BRK   241.3"
      ]
     },
     "execution_count": 13,
     "metadata": {},
     "output_type": "execute_result"
    }
   ],
   "source": [
    "df.pivot_table(values=\"Godhet\", index=\"Tm\", aggfunc=\"sum\").sort_values(by=\"Godhet\", ascending=False)"
   ]
  },
  {
   "cell_type": "code",
   "execution_count": 14,
   "id": "257c61ae",
   "metadata": {},
   "outputs": [
    {
     "data": {
      "text/plain": [
       "<Axes: xlabel='Def', ylabel='Off'>"
      ]
     },
     "execution_count": 14,
     "metadata": {},
     "output_type": "execute_result"
    },
    {
     "data": {
      "image/png": "[encoded data removed]",
      "text/plain": [
       "<Figure size 640x480 with 1 Axes>"
      ]
     },
     "metadata": {},
     "output_type": "display_data"
    }
   ],
   "source": [
    "df.plot(kind=\"scatter\", x=\"Def\", y=\"Off\")"
   ]
  },
  {
   "cell_type": "code",
   "execution_count": 15,
   "id": "c5554db7",
   "metadata": {},
   "outputs": [
    {
     "data": {
      "text/plain": [
       "0.749853004825499"
      ]
     },
     "execution_count": 15,
     "metadata": {},
     "output_type": "execute_result"
    }
   ],
   "source": [
    "df[\"Off\"].corr(df[\"Def\"])"
   ]
  },
  {
   "cell_type": "code",
   "execution_count": 16,
   "id": "586d6021",
   "metadata": {},
   "outputs": [
    {
     "data": {
      "text/plain": [
       "<Axes: xlabel='Def', ylabel='Off'>"
      ]
     },
     "execution_count": 16,
     "metadata": {},
     "output_type": "execute_result"
    },
    {
     "data": {
      "image/png": "[encoded data removed]",
      "text/plain": [
       "<Figure size 640x480 with 1 Axes>"
      ]
     },
     "metadata": {},
     "output_type": "display_data"
    }
   ],
   "source": [
    "df.groupby(\"Tm\").sum().plot(kind=\"scatter\", x=\"Def\", y=\"Off\")"
   ]
  },
  {
   "cell_type": "code",
   "execution_count": 17,
   "id": "08593044",
   "metadata": {},
   "outputs": [
    {
     "data": {
      "text/plain": [
       "<Axes: ylabel='Frequency'>"
      ]
     },
     "execution_count": 17,
     "metadata": {},
     "output_type": "execute_result"
    },
    {
     "data": {
      "image/png": "[encoded data removed]",
      "text/plain": [
       "<Figure size 640x480 with 1 Axes>"
      ]
     },
     "metadata": {},
     "output_type": "display_data"
    }
   ],
   "source": [
    "df[\"Age\"].plot(kind=\"hist\",bins=20)"
   ]
  },
  {
   "cell_type": "code",
   "execution_count": 18,
   "id": "41c8ad96",
   "metadata": {},
   "outputs": [
    {
     "data": {
      "text/plain": [
       "88028"
      ]
     },
     "execution_count": 18,
     "metadata": {},
     "output_type": "execute_result"
    }
   ],
   "source": [
    "df.memory_usage(deep=True).sum()"
   ]
  }
 ],
 "metadata": {
  "kernelspec": {
   "display_name": "Python 3",
   "language": "python",
   "name": "python3"
  },
  "language_info": {
   "codemirror_mode": {
    "name": "ipython",
    "version": 3
   },
   "file_extension": ".py",
   "mimetype": "text/x-python",
   "name": "python",
   "nbconvert_exporter": "python",
   "pygments_lexer": "ipython3",
   "version": "3.12.2"
  }
 },
 "nbformat": 4,
 "nbformat_minor": 5
}
