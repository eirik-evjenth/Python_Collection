{
 "cells": [
  {
   "cell_type": "code",
   "execution_count": 2,
   "id": "0c753b8c",
   "metadata": {},
   "outputs": [],
   "source": [
    "import pandas as pd\n",
    "import matplotlib.pyplot as plt\n",
    "\n",
    "\n",
    "data = \"CSVfil.csv\"\n",
    "\n",
    "df = pd.read_csv(data, sep=';')\n",
    "\n"
   ]
  },
  {
   "cell_type": "code",
   "execution_count": 3,
   "id": "7ccaf2e0",
   "metadata": {},
   "outputs": [
    {
     "name": "stdout",
     "output_type": "stream",
     "text": [
      "                                            Aktivitet  Østfold  Akershus  \\\n",
      "0   Gåtur i parker eller naturomgivelser i nærhete...      230       527   \n",
      "1               Fottur i fjell,skog eller mark, i alt      176       418   \n",
      "2                                           Sykkeltur       68       159   \n",
      "3               Skitur i fjell,skog eller mark, i alt       57       211   \n",
      "4   Stått på alpinski, snowboard,randonee, eller l...       43       132   \n",
      "5                                              Fisket       83       185   \n",
      "6                                       Båttur, i alt      115       259   \n",
      "7                            Gått på skøyter utendørs       35        87   \n",
      "8                                     Ridetur på hest        6        25   \n",
      "9                                      Badet utendørs      174       406   \n",
      "10                                               Jakt       17        36   \n",
      "11                                 Bær- eller sopptur      118       285   \n",
      "12                                   Klatret utendørs       14        33   \n",
      "13                           Overnattet ute i naturen       65       143   \n",
      "14      Deltatt i organiserte friluftslivsaktiviteter       24        41   \n",
      "\n",
      "    Oslo  Innlandet  Buskerud  Vestfold  Telemark  Agder  Rogaland  Vestland  \\\n",
      "0    552        283       196       188       128    230       365       494   \n",
      "1    429        223       164       144       102    187       310       436   \n",
      "2    151         80        65        59        32     64        99       101   \n",
      "3    255        117        78        56        46     74        85       158   \n",
      "4    156         49        44        33        27     47        77       124   \n",
      "5    143        120        75        64        57     98       157       258   \n",
      "6    261        110        93       105        61    130       208       288   \n",
      "7     87         40        25        21        14     28        44        53   \n",
      "8     23         17         9        10         2      4        14        16   \n",
      "9    447        210       159       151        92    196       275       371   \n",
      "10    23         30        16         8        13     14        21        40   \n",
      "11   236        177       116        84        63    113       147       237   \n",
      "12    38         13        10        15         7     11        15        30   \n",
      "13   148         89        56        49        40     72        85       135   \n",
      "14    32         27        21        21        15     21        24        61   \n",
      "\n",
      "    Møre og Romsdal  Trøndelag  Nordland  Troms  \n",
      "0               195        364       178    129  \n",
      "1               168        309       160    115  \n",
      "2                43         85        40     42  \n",
      "3                72        167        71     63  \n",
      "4                53         89        38     34  \n",
      "5                89        185       110     67  \n",
      "6                99        174       102     70  \n",
      "7                18         48        26     11  \n",
      "8                 3         17         6      7  \n",
      "9               123        270       121     86  \n",
      "10               23         43        27     13  \n",
      "11               99        222       119     78  \n",
      "12               15         25        11      9  \n",
      "13               46        112        54     52  \n",
      "14               19         18        19     10  \n"
     ]
    }
   ],
   "source": [
    "print(df)\n"
   ]
  },
  {
   "cell_type": "code",
   "execution_count": 4,
   "id": "4bc0d9ac",
   "metadata": {},
   "outputs": [
    {
     "name": "stdout",
     "output_type": "stream",
     "text": [
      "<class 'pandas.core.frame.DataFrame'>\n",
      "RangeIndex: 15 entries, 0 to 14\n",
      "Data columns (total 15 columns):\n",
      " #   Column           Non-Null Count  Dtype \n",
      "---  ------           --------------  ----- \n",
      " 0   Aktivitet        15 non-null     object\n",
      " 1   Østfold          15 non-null     int64 \n",
      " 2   Akershus         15 non-null     int64 \n",
      " 3   Oslo             15 non-null     int64 \n",
      " 4   Innlandet        15 non-null     int64 \n",
      " 5   Buskerud         15 non-null     int64 \n",
      " 6   Vestfold         15 non-null     int64 \n",
      " 7   Telemark         15 non-null     int64 \n",
      " 8   Agder            15 non-null     int64 \n",
      " 9   Rogaland         15 non-null     int64 \n",
      " 10  Vestland         15 non-null     int64 \n",
      " 11  Møre og Romsdal  15 non-null     int64 \n",
      " 12  Trøndelag        15 non-null     int64 \n",
      " 13  Nordland         15 non-null     int64 \n",
      " 14  Troms            15 non-null     int64 \n",
      "dtypes: int64(14), object(1)\n",
      "memory usage: 1.9+ KB\n"
     ]
    }
   ],
   "source": [
    "df.info()\n"
   ]
  }
 ],
 "metadata": {
  "kernelspec": {
   "display_name": "Python 3",
   "language": "python",
   "name": "python3"
  },
  "language_info": {
   "codemirror_mode": {
    "name": "ipython",
    "version": 3
   },
   "file_extension": ".py",
   "mimetype": "text/x-python",
   "name": "python",
   "nbconvert_exporter": "python",
   "pygments_lexer": "ipython3",
   "version": "3.12.2"
  }
 },
 "nbformat": 4,
 "nbformat_minor": 5
}
